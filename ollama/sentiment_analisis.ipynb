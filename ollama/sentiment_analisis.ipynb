{
 "cells": [
  {
   "cell_type": "markdown",
   "id": "4ae3010d",
   "metadata": {},
   "source": [
    "# Sentiment Analisis"
   ]
  },
  {
   "cell_type": "code",
   "execution_count": 2,
   "id": "49c2b71b",
   "metadata": {},
   "outputs": [
    {
     "name": "stdout",
     "output_type": "stream",
     "text": [
      "Text: I like this product\n",
      "Sentiment: <think>\n",
      "Okay, let's see. The user wants me to analyze the sentiment of the text \"I like this product\" and return Positive, Negative, or Neutral. Alright, first, I need to understand what sentiment analysis is. From what I remember, sentiment analysis is determining if a piece of text is positive, negative, or neutral based on the words used and the context.\n",
      "\n",
      "So the text here is \"I like this product.\" The key words here are \"like\" and \"product.\" The word \"like\" is a strong indicator of positive sentiment. When someone says they like something, it's generally a positive statement. Then there's \"product,\" which is neutral on its own, but combined with \"like,\" it becomes positive.\n",
      "\n",
      "I should check if there are any other words or phrases that might change the sentiment. The sentence is straightforward, no sarcasm or negative words. The structure is simple: subject (\"I\") + verb (\"like\") + object (\"this product\"). No negations like \"don't like\" which would make it negative. \n",
      "\n",
      "I also need to consider if there's any context missing. For example, if the sentence was part of a longer text, maybe there's more to it. But since the user provided only this sentence, I can assume it's standalone. \n",
      "\n",
      "Another thing to think about is the use of \"this.\" It refers back to the product, so it's clear that the speaker is talking about the product they like. There's no ambiguity here. \n",
      "\n",
      "I should also recall if there are any common phrases or idioms that might change the meaning, but \"I like this product\" is pretty direct. No idioms here. \n",
      "\n",
      "So, putting it all together, the sentiment is positive. The presence of \"like\" and the context of the product being liked makes it a clear positive statement. There's no negative or neutral words in the sentence. Therefore, the correct classification should be Positive.\n",
      "</think>\n",
      "\n",
      "Positive\n",
      "\n",
      "Text: I hate the food in this restaurant\n",
      "Sentiment: <think>\n",
      "Okay, let's see. The user wants me to analyze the sentiment of the text \"I hate the food in this restaurant\" and return whether it's Positive, Negative, or Neutral.\n",
      "\n",
      "First, I need to recall what sentiment analysis involves. It's about determining the emotional tone behind a piece of text. The key here is to look for words that indicate positive, negative, or neutral emotions.\n",
      "\n",
      "The sentence given is \"I hate the food in this restaurant.\" The word \"hate\" is a strong indicator of negative sentiment. It's a direct expression of dislike. The rest of the sentence talks about the food, which is the subject of the hate. There are no positive words here. Even if there were other words, the presence of \"hate\" would likely override any neutral or positive terms. \n",
      "\n",
      "I should also consider if there's any sarcasm or context that might change the meaning, but since there's no additional context provided, I have to take the text at face value. The user didn't mention anything about the context, so I can't assume sarcasm here. \n",
      "\n",
      "Another thing to check is if there are any other words that might affect the sentiment. Words like \"food\" are neutral, but combined with \"hate,\" they form a negative statement. There's no ambiguity in this case. \n",
      "\n",
      "So, putting it all together, the sentiment is clearly negative. The user is expressing strong dislike towards the food in the restaurant. Therefore, the correct classification should be Negative.\n",
      "</think>\n",
      "\n",
      "Negative\n",
      "\n",
      "Text: The weather is okay today\n",
      "Sentiment: <think>\n",
      "Okay, let's see. The user wants me to analyze the sentiment of the text \"The weather is okay today\" and return Positive, Negative, or Neutral. \n",
      "\n",
      "First, I need to understand what the sentence is saying. The key part here is \"okay.\" That's a neutral term, right? It doesn't have a strong positive or negative connotation. People often use \"okay\" to describe something that's neither good nor bad. \n",
      "\n",
      "But wait, sometimes context can change things. If someone says the weather is okay, maybe they're implying it's not great, but not terrible. However, in most cases, \"okay\" is neutral. There's no strong emotional language here. Words like \"excellent,\" \"terrible,\" or \"amazing\" would clearly indicate positive or negative, but \"okay\" is more of a middle ground.\n",
      "\n",
      "I should also consider if there's any sarcasm or hidden meaning. But the sentence is straightforward. No obvious sarcasm. So the sentiment is likely neutral. \n",
      "\n",
      "Let me double-check. If someone says the weather is okay, they might be expressing that it's acceptable but not particularly good. So, it's not a strong positive or negative. Therefore, the correct classification should be Neutral.\n",
      "</think>\n",
      "\n",
      "Neutral\n",
      "\n"
     ]
    }
   ],
   "source": [
    "import ollama\n",
    "\n",
    "def analyze_sentiment(text):\n",
    "    prompt = f\"Analyse the sentiment of this text and return Positive, Negative or Neutral for '{text}'\" \n",
    "    response = ollama.chat(\n",
    "        model=\"qwen3:latest\",\n",
    "        messages=[\n",
    "            {\"role\": \"user\", \"content\": prompt},\n",
    "        ])\n",
    "    return response['message']['content']\n",
    "\n",
    "texts = [ \n",
    "    \"I like this product\", \n",
    "    \"I hate the food in this restaurant\", \n",
    "    \"The weather is okay today\" \n",
    "]\n",
    "\n",
    "for text in texts:\n",
    "    sentiment = analyze_sentiment(text)\n",
    "    print(f\"Text: {text}\\nSentiment: {sentiment}\\n\")"
   ]
  },
  {
   "cell_type": "markdown",
   "id": "62548fc3",
   "metadata": {},
   "source": [
    "## Text sumarization"
   ]
  },
  {
   "cell_type": "code",
   "execution_count": 1,
   "id": "b8fc58e7",
   "metadata": {},
   "outputs": [
    {
     "name": "stdout",
     "output_type": "stream",
     "text": [
      "Text:I like this product is made with high quality materials and has a great design\n",
      "Summary: \"I love it! The product features high-quality materials and a fantastic design.\"\n",
      "\n",
      "Text:I hate the food in this restaurant because it is always cold and tasteless\n",
      "Summary: \"Cold and tasteless food is unacceptable.\"\n",
      "\n",
      "Text:The weather is okay today is not sunny and is not rainy, just a bit cloudy\n",
      "Summary: It's a partly cloudy day.\n",
      "\n"
     ]
    }
   ],
   "source": [
    "import ollama\n",
    "\n",
    "def sumarize_text(text):\n",
    "    prompt = f\"Provide a concise summary of '{text}' keep as short as possible\" \n",
    "    response = ollama.chat(\n",
    "        model=\"llama3.2:latest\",\n",
    "        messages=[\n",
    "            {\"role\": \"user\", \"content\": prompt},\n",
    "        ])\n",
    "    return response['message']['content']\n",
    "\n",
    "texts = [ \n",
    "    \"I like this product is made with high quality materials and has a great design\", \n",
    "    \"I hate the food in this restaurant because it is always cold and tasteless\", \n",
    "    \"The weather is okay today is not sunny and is not rainy, just a bit cloudy\" \n",
    "]\n",
    "\n",
    "for text in texts:\n",
    "    summary = sumarize_text(text)\n",
    "\n",
    "    print(f\"Text:{text}\\nSummary: {summary}\\n\")"
   ]
  }
 ],
 "metadata": {
  "kernelspec": {
   "display_name": "venv",
   "language": "python",
   "name": "python3"
  },
  "language_info": {
   "codemirror_mode": {
    "name": "ipython",
    "version": 3
   },
   "file_extension": ".py",
   "mimetype": "text/x-python",
   "name": "python",
   "nbconvert_exporter": "python",
   "pygments_lexer": "ipython3",
   "version": "3.12.0"
  }
 },
 "nbformat": 4,
 "nbformat_minor": 5
}
